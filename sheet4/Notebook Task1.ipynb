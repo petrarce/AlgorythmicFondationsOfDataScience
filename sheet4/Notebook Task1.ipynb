{
 "cells": [
  {
   "cell_type": "markdown",
   "metadata": {},
   "source": [
    "<img src=\"image.png\">"
   ]
  },
  {
   "cell_type": "code",
   "execution_count": 1,
   "metadata": {},
   "outputs": [],
   "source": [
    "import numpy as np\n",
    "\n",
    "A = np.array([3,1,1])\n",
    "B = np.array([6.5,1,1.5])\n",
    "C = np.array([5.5,3,2.5])\n",
    "D = np.array([0.5,-1,-0.5])\n",
    "E = np.array([-0.5,1,0.5])"
   ]
  },
  {
   "cell_type": "markdown",
   "metadata": {},
   "source": [
    "# Creating the matrix"
   ]
  },
  {
   "cell_type": "code",
   "execution_count": 2,
   "metadata": {},
   "outputs": [
    {
     "data": {
      "text/plain": [
       "array([[ 3. ,  1. ,  1. ],\n",
       "       [ 6.5,  1. ,  1.5],\n",
       "       [ 5.5,  3. ,  2.5],\n",
       "       [ 0.5, -1. , -0.5],\n",
       "       [-0.5,  1. ,  0.5]])"
      ]
     },
     "execution_count": 2,
     "metadata": {},
     "output_type": "execute_result"
    }
   ],
   "source": [
    "X = np.vstack((A,B,C,D,E))\n",
    "X"
   ]
  },
  {
   "cell_type": "markdown",
   "metadata": {},
   "source": [
    "# Standardizing the matrix"
   ]
  },
  {
   "cell_type": "code",
   "execution_count": 3,
   "metadata": {},
   "outputs": [
    {
     "data": {
      "text/plain": [
       "array([[ 0.        ,  0.        ,  0.        ],\n",
       "       [ 1.28662559,  0.        ,  0.5       ],\n",
       "       [ 0.91901828,  1.58113883,  1.5       ],\n",
       "       [-0.91901828, -1.58113883, -1.5       ],\n",
       "       [-1.28662559,  0.        , -0.5       ]])"
      ]
     },
     "execution_count": 3,
     "metadata": {},
     "output_type": "execute_result"
    }
   ],
   "source": [
    "from sklearn.preprocessing import StandardScaler\n",
    "X_std = StandardScaler().fit_transform(X)\n",
    "X_std"
   ]
  },
  {
   "cell_type": "markdown",
   "metadata": {},
   "source": [
    "# Computing the covariance matrix"
   ]
  },
  {
   "cell_type": "code",
   "execution_count": 4,
   "metadata": {},
   "outputs": [],
   "source": [
    "X_covariance_matrix = np.cov(X_std.T)"
   ]
  },
  {
   "cell_type": "code",
   "execution_count": 5,
   "metadata": {},
   "outputs": [
    {
     "data": {
      "text/plain": [
       "array([[1.25      , 0.72654774, 1.01092011],\n",
       "       [0.72654774, 1.25      , 1.18585412],\n",
       "       [1.01092011, 1.18585412, 1.25      ]])"
      ]
     },
     "execution_count": 5,
     "metadata": {},
     "output_type": "execute_result"
    }
   ],
   "source": [
    "X_covariance_matrix"
   ]
  },
  {
   "cell_type": "markdown",
   "metadata": {},
   "source": [
    "# Finding Eigenvalues and Eigenvectors"
   ]
  },
  {
   "cell_type": "code",
   "execution_count": 6,
   "metadata": {},
   "outputs": [
    {
     "name": "stdout",
     "output_type": "stream",
     "text": [
      "Eigenvectors:\n",
      " [[-0.53316412 -0.7908806  -0.30040623]\n",
      " [-0.57364312  0.59894778 -0.55874424]\n",
      " [-0.62182762  0.12557641  0.77302068]]\n",
      "\n",
      "Eigenvalues:\n",
      " [ 3.21074177e+00  5.39258228e-01 -1.72370688e-17]\n"
     ]
    }
   ],
   "source": [
    "eig_vals, eig_vecs = np.linalg.eig(X_covariance_matrix)\n",
    "\n",
    "print(\"Eigenvectors:\\n\", eig_vecs)\n",
    "print()\n",
    "print(\"Eigenvalues:\\n\", eig_vals)"
   ]
  },
  {
   "cell_type": "markdown",
   "metadata": {},
   "source": [
    "Making a list of tuples, in order to sort them"
   ]
  },
  {
   "cell_type": "code",
   "execution_count": 7,
   "metadata": {},
   "outputs": [
    {
     "name": "stdout",
     "output_type": "stream",
     "text": [
      "Eigenvalues in descending order\n",
      "3.2107417718560276\n",
      "0.5392582281439726\n",
      "1.7237068842761345e-17\n"
     ]
    }
   ],
   "source": [
    "#list of (eigenvalue, eigenvector) tuples\n",
    "eig_pairs = [(np.abs(eig_vals[i]), eig_vecs[:,i]) for i in range(len(eig_vals))]\n",
    "\n",
    "#sort from high to low\n",
    "eig_pairs.sort(key=lambda x: x[0], reverse=True)\n",
    "\n",
    "print('Eigenvalues in descending order')\n",
    "for i in eig_pairs:\n",
    "    print(i[0])"
   ]
  },
  {
   "cell_type": "markdown",
   "metadata": {},
   "source": [
    "The goal here is to find the percentages of variation that each PC accounts for"
   ]
  },
  {
   "cell_type": "code",
   "execution_count": 8,
   "metadata": {},
   "outputs": [
    {
     "name": "stdout",
     "output_type": "stream",
     "text": [
      "Variance captured by each component is \n",
      " [85.6197805828274, 14.380219417172604, -4.596551691403025e-16]\n",
      "----------------------------------------\n",
      "Cumulative variance \n",
      " [ 85.61978058 100.         100.        ]\n"
     ]
    }
   ],
   "source": [
    "# contribution of each PC\n",
    "tot = sum(eig_vals)\n",
    "var_exp = [(i/tot)*100 for i in sorted(eig_vals, reverse=True)]\n",
    "cum_var_exp = np.cumsum(var_exp)\n",
    "print ('Variance captured by each component is \\n', var_exp)\n",
    "print(40* '-')\n",
    "print ('Cumulative variance \\n', cum_var_exp)"
   ]
  },
  {
   "cell_type": "markdown",
   "metadata": {},
   "source": [
    "As we can see:\n",
    "- PC 1 has ~85% of contribution\n",
    "- PC 2 has ~14% of contribution"
   ]
  },
  {
   "cell_type": "code",
   "execution_count": 9,
   "metadata": {},
   "outputs": [
    {
     "name": "stdout",
     "output_type": "stream",
     "text": [
      "All Eigen Values along with Eigen Vectors\n",
      "[(3.2107417718560276, array([-0.53316412, -0.57364312, -0.62182762])),\n",
      " (0.5392582281439726, array([-0.7908806 ,  0.59894778,  0.12557641])),\n",
      " (1.7237068842761345e-17, array([-0.30040623, -0.55874424,  0.77302068]))]\n",
      "----------------------------------------\n"
     ]
    }
   ],
   "source": [
    "import pprint\n",
    "print(\"All Eigen Values along with Eigen Vectors\")\n",
    "pprint.pprint(eig_pairs)\n",
    "print(40*'-')"
   ]
  },
  {
   "cell_type": "markdown",
   "metadata": {},
   "source": [
    "# For 2-Dim"
   ]
  },
  {
   "cell_type": "code",
   "execution_count": 10,
   "metadata": {},
   "outputs": [
    {
     "name": "stdout",
     "output_type": "stream",
     "text": [
      "Matrix W for 2-Dim: \n",
      " [[-0.53316412 -0.7908806 ]\n",
      " [-0.57364312  0.59894778]\n",
      " [-0.62182762  0.12557641]]\n"
     ]
    }
   ],
   "source": [
    "matrix_w2 = np.hstack((eig_pairs[0][1].reshape(3,1),\n",
    "                     eig_pairs[1][1].reshape(3,1)))\n",
    "\n",
    "print('Matrix W for 2-Dim: \\n', matrix_w2)"
   ]
  },
  {
   "cell_type": "code",
   "execution_count": 11,
   "metadata": {},
   "outputs": [
    {
     "data": {
      "text/plain": [
       "array([[ 0.        ,  0.        ],\n",
       "       [-0.99689641, -0.95477901],\n",
       "       [-2.32973842,  0.40855049],\n",
       "       [ 2.32973842, -0.40855049],\n",
       "       [ 0.99689641,  0.95477901]])"
      ]
     },
     "execution_count": 11,
     "metadata": {},
     "output_type": "execute_result"
    }
   ],
   "source": [
    "Y2 = X_std.dot(matrix_w2)\n",
    "Y2"
   ]
  },
  {
   "cell_type": "code",
   "execution_count": 21,
   "metadata": {},
   "outputs": [
    {
     "data": {
      "image/png": "[encoded data removed]",
      "text/plain": [
       "<Figure size 432x288 with 1 Axes>"
      ]
     },
     "metadata": {
      "needs_background": "light"
     },
     "output_type": "display_data"
    }
   ],
   "source": [
    "import matplotlib.pyplot as plt\n",
    "%matplotlib inline\n",
    "\n",
    "colors = ['b', 'c', 'y', 'm', 'r']\n",
    "\n",
    "A = plt.scatter(Y2[0,0], Y2[0,1], color=colors[0])\n",
    "B = plt.scatter(Y2[1,0], Y2[1,1], color=colors[1])\n",
    "C  = plt.scatter(Y2[2,0], Y2[2,1], color=colors[2])\n",
    "D  = plt.scatter(Y2[3,0], Y2[3,1], color=colors[3])\n",
    "E  = plt.scatter(Y2[4,0], Y2[4,1], color=colors[4])\n",
    "\n",
    "plt.legend((A, B, C, D, E),\n",
    "           ('A', 'B', 'C', 'D', 'E'),\n",
    "           scatterpoints=1,\n",
    "           ncol=1,\n",
    "           fontsize=8)\n",
    "\n",
    "plt.show()"
   ]
  },
  {
   "cell_type": "markdown",
   "metadata": {},
   "source": [
    "# 1-Dim"
   ]
  },
  {
   "cell_type": "code",
   "execution_count": 13,
   "metadata": {},
   "outputs": [
    {
     "name": "stdout",
     "output_type": "stream",
     "text": [
      "Matrix W: \n",
      " [[-0.53316412]\n",
      " [-0.57364312]\n",
      " [-0.62182762]]\n"
     ]
    }
   ],
   "source": [
    "matrix_w1 = eig_pairs[0][1].reshape(3,1)\n",
    "\n",
    "print('Matrix W: \\n', matrix_w1)"
   ]
  },
  {
   "cell_type": "code",
   "execution_count": 14,
   "metadata": {},
   "outputs": [
    {
     "data": {
      "text/plain": [
       "array([[ 0.        ],\n",
       "       [-0.99689641],\n",
       "       [-2.32973842],\n",
       "       [ 2.32973842],\n",
       "       [ 0.99689641]])"
      ]
     },
     "execution_count": 14,
     "metadata": {},
     "output_type": "execute_result"
    }
   ],
   "source": [
    "Y1 = X_std.dot(matrix_w1)\n",
    "Y1"
   ]
  },
  {
   "cell_type": "code",
   "execution_count": 24,
   "metadata": {},
   "outputs": [
    {
     "data": {
      "text/plain": [
       "<matplotlib.legend.Legend at 0x18c6ed4dfc8>"
      ]
     },
     "execution_count": 24,
     "metadata": {},
     "output_type": "execute_result"
    },
    {
     "data": {
      "image/png": "[encoded data removed]",
      "text/plain": [
       "<Figure size 432x288 with 1 Axes>"
      ]
     },
     "metadata": {
      "needs_background": "light"
     },
     "output_type": "display_data"
    }
   ],
   "source": [
    "plt.figure()\n",
    "ax1 = plt.hlines(1,-2.5,2.5)  # Draw a horizontal line\n",
    "\n",
    "A = plt.eventplot(Y1[0], color=colors[0], label = 'A')\n",
    "B = plt.eventplot(Y1[1], color=colors[1], label = 'B')\n",
    "C  = plt.eventplot(Y1[2], color=colors[2], label = 'C')\n",
    "D  = plt.eventplot(Y1[3], color=colors[3], label = 'D')\n",
    "E  = plt.eventplot(Y1[4], color=colors[4], label = 'E')\n",
    "\n",
    "plt.legend()"
   ]
  },
  {
   "cell_type": "code",
   "execution_count": null,
   "metadata": {},
   "outputs": [],
   "source": []
  },
  {
   "cell_type": "code",
   "execution_count": null,
   "metadata": {},
   "outputs": [],
   "source": []
  }
 ],
 "metadata": {
  "kernelspec": {
   "display_name": "Python 3",
   "language": "python",
   "name": "python3"
  },
  "language_info": {
   "codemirror_mode": {
    "name": "ipython",
    "version": 3
   },
   "file_extension": ".py",
   "mimetype": "text/x-python",
   "name": "python",
   "nbconvert_exporter": "python",
   "pygments_lexer": "ipython3",
   "version": "3.7.6"
  }
 },
 "nbformat": 4,
 "nbformat_minor": 4
}
